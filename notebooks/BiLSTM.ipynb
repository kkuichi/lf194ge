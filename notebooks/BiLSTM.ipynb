{
 "cells": [
  {
   "cell_type": "code",
   "execution_count": null,
   "metadata": {
    "colab": {
     "base_uri": "https://localhost:8080/"
    },
    "executionInfo": {
     "elapsed": 23337,
     "status": "ok",
     "timestamp": 1744802967059,
     "user": {
      "displayName": "lauri k",
      "userId": "16133368723613273782"
     },
     "user_tz": -120
    },
    "id": "W-SbfmQwcPPi",
    "outputId": "ea16825b-127c-499b-e007-d934251d883e"
   },
   "outputs": [
    {
     "name": "stdout",
     "output_type": "stream",
     "text": [
      "Mounted at /content/drive/\n"
     ]
    }
   ],
   "source": [
    "from google.colab import drive\n",
    "drive.mount('/content/drive/')"
   ]
  },
  {
   "cell_type": "code",
   "execution_count": null,
   "metadata": {
    "id": "n-FdEeJ7cPPj"
   },
   "outputs": [],
   "source": [
    "#načítanie potrebných knižníc\n",
    "import tensorflow as tf\n",
    "from tensorflow.keras import layers, models\n",
    "from tensorflow.keras.callbacks import ModelCheckpoint, EarlyStopping, ReduceLROnPlateau\n",
    "import cv2\n",
    "import numpy as np\n",
    "from sklearn.model_selection import train_test_split\n",
    "from tqdm import tqdm\n",
    "import matplotlib.pyplot as plt\n"
   ]
  },
  {
   "cell_type": "code",
   "execution_count": null,
   "metadata": {
    "colab": {
     "base_uri": "https://localhost:8080/"
    },
    "executionInfo": {
     "elapsed": 5094,
     "status": "ok",
     "timestamp": 1744803373742,
     "user": {
      "displayName": "lauri k",
      "userId": "16133368723613273782"
     },
     "user_tz": -120
    },
    "id": "Zi6h96FTcPPm",
    "outputId": "a7d382d3-6da8-44bd-e5f2-bba3fec923b8"
   },
   "outputs": [
    {
     "name": "stdout",
     "output_type": "stream",
     "text": [
      "Počet tréningových vzoriek: 8500\n",
      "Počet testovacích vzoriek: 1000\n",
      "Tvar tréningových dát: (8500, 100), Tvar štítkov: (8500,)\n",
      "Tvar testovacích dát: (1000, 100), Tvar štítkov: (1000,)\n"
     ]
    }
   ],
   "source": [
    "import tensorflow as tf\n",
    "from tensorflow.keras import layers, models, preprocessing\n",
    "import numpy as np\n",
    "import json\n",
    "import re\n",
    "\n",
    "#nastavenia\n",
    "max_words = 20000  # maximálny počet slov vo vocab\n",
    "max_length = 100   # maximálna dĺžka textov (v slovách)\n",
    "embedding_dim = 128  # dimenzia embedding vrstvy\n",
    "\n",
    "#funkcia na načítanie dát z JSONL súboru\n",
    "def load_data_from_jsonl(jsonl_path):\n",
    "    texts = []\n",
    "    labels = []\n",
    "    with open(jsonl_path, 'r') as file:\n",
    "        for line in file:\n",
    "            data = json.loads(line)\n",
    "            texts.append(data[\"text\"])\n",
    "            labels.append(data[\"label\"])\n",
    "    return texts, labels\n",
    "\n",
    "#funkcia na normalizáciu textu\n",
    "def normalize_text(text):\n",
    "    text = text.lower()  # zmena na malé písmená\n",
    "    text = re.sub(r'[^a-zá-ž0-9\\s]', '', text)  # odstránenie interpunkcie\n",
    "    text = re.sub(r'\\s+', ' ', text).strip()  # odstránenie nadbytočných medzier\n",
    "    return text\n",
    "\n",
    "#načítanie a normalizácia dát\n",
    "train_jsonl_path = \"/content/drive/MyDrive/data/train.jsonl\"\n",
    "test_jsonl_path = \"/content/drive/MyDrive/data/test_seen.jsonl\"\n",
    "\n",
    "train_texts, train_labels = load_data_from_jsonl(train_jsonl_path)\n",
    "test_texts, test_labels = load_data_from_jsonl(test_jsonl_path)\n",
    "\n",
    "#normalizácia\n",
    "train_texts = [normalize_text(t) for t in train_texts]\n",
    "test_texts = [normalize_text(t) for t in test_texts]\n",
    "\n",
    "#tokenizácia\n",
    "tokenizer = preprocessing.text.Tokenizer(num_words=max_words, oov_token=\"<OOV>\")\n",
    "tokenizer.fit_on_texts(train_texts)\n",
    "\n",
    "train_sequences = tokenizer.texts_to_sequences(train_texts)\n",
    "test_sequences = tokenizer.texts_to_sequences(test_texts)\n",
    "\n",
    "#padding\n",
    "x_train = preprocessing.sequence.pad_sequences(train_sequences, maxlen=max_length, padding='post')\n",
    "x_test = preprocessing.sequence.pad_sequences(test_sequences, maxlen=max_length, padding='post')\n",
    "\n",
    "#konverzia štítkov\n",
    "y_train = np.array(train_labels)\n",
    "y_test = np.array(test_labels)\n",
    "\n",
    "#výstupy na kontrolu\n",
    "print(f\"Počet tréningových vzoriek: {len(x_train)}\")\n",
    "print(f\"Počet testovacích vzoriek: {len(x_test)}\")\n",
    "print(f\"Tvar tréningových dát: {x_train.shape}, Tvar štítkov: {y_train.shape}\")\n",
    "print(f\"Tvar testovacích dát: {x_test.shape}, Tvar štítkov: {y_test.shape}\")\n"
   ]
  },
  {
   "cell_type": "code",
   "execution_count": null,
   "metadata": {
    "id": "GEbglqwYaXx_"
   },
   "outputs": [],
   "source": [
    "#model BiLSTM, ak spúštame na novo trénovanie, tak hodnoty výslednych metrík budú o niečo iné ako uvedené v DP"
   ]
  },
  {
   "cell_type": "code",
   "execution_count": null,
   "metadata": {
    "colab": {
     "base_uri": "https://localhost:8080/"
    },
    "executionInfo": {
     "elapsed": 128377,
     "status": "ok",
     "timestamp": 1744804675601,
     "user": {
      "displayName": "lauri k",
      "userId": "16133368723613273782"
     },
     "user_tz": -120
    },
    "id": "Pm8SbFjLaYw9",
    "outputId": "ecfdf8e7-5c7e-4435-d979-1ab82e72bcc4"
   },
   "outputs": [
    {
     "name": "stdout",
     "output_type": "stream",
     "text": [
      "\n",
      " New Training Set Distribution:\n",
      "label\n",
      "1    3605\n",
      "0    3604\n",
      "Name: count, dtype: int64\n",
      " New Test Set Distribution:\n",
      "label\n",
      "0    902\n",
      "1    901\n",
      "Name: count, dtype: int64\n",
      " Class Weights: {0: np.float64(1.0001387347391786), 1: np.float64(0.9998613037447989)}\n",
      "\n",
      " Training model: bi_lstm-64_dropout-0.5_lr-0.001_batch-16_epochs-10.keras\n",
      "Epoch 1/10\n",
      "\u001b[1m451/451\u001b[0m \u001b[32m━━━━━━━━━━━━━━━━━━━━\u001b[0m\u001b[37m\u001b[0m \u001b[1m0s\u001b[0m 22ms/step - accuracy: 0.5399 - auc: 0.5641 - loss: 0.6909\n",
      "Epoch 1: val_accuracy improved from -inf to 0.50139, saving model to saved_models/bi_lstm-64_dropout-0.5_lr-0.001_batch-16_epochs-10.keras\n",
      "\u001b[1m451/451\u001b[0m \u001b[32m━━━━━━━━━━━━━━━━━━━━\u001b[0m\u001b[37m\u001b[0m \u001b[1m23s\u001b[0m 26ms/step - accuracy: 0.5399 - auc: 0.5642 - loss: 0.6908 - val_accuracy: 0.5014 - val_auc: 0.6458 - val_loss: 0.7080\n",
      "Epoch 2/10\n",
      "\u001b[1m451/451\u001b[0m \u001b[32m━━━━━━━━━━━━━━━━━━━━\u001b[0m\u001b[37m\u001b[0m \u001b[1m0s\u001b[0m 30ms/step - accuracy: 0.7160 - auc: 0.7828 - loss: 0.5697\n",
      "Epoch 2: val_accuracy improved from 0.50139 to 0.60399, saving model to saved_models/bi_lstm-64_dropout-0.5_lr-0.001_batch-16_epochs-10.keras\n",
      "\u001b[1m451/451\u001b[0m \u001b[32m━━━━━━━━━━━━━━━━━━━━\u001b[0m\u001b[37m\u001b[0m \u001b[1m15s\u001b[0m 33ms/step - accuracy: 0.7160 - auc: 0.7828 - loss: 0.5697 - val_accuracy: 0.6040 - val_auc: 0.6565 - val_loss: 0.6648\n",
      "Epoch 3/10\n",
      "\u001b[1m451/451\u001b[0m \u001b[32m━━━━━━━━━━━━━━━━━━━━\u001b[0m\u001b[37m\u001b[0m \u001b[1m0s\u001b[0m 26ms/step - accuracy: 0.8063 - auc: 0.8783 - loss: 0.4439\n",
      "Epoch 3: val_accuracy improved from 0.60399 to 0.60677, saving model to saved_models/bi_lstm-64_dropout-0.5_lr-0.001_batch-16_epochs-10.keras\n",
      "\u001b[1m451/451\u001b[0m \u001b[32m━━━━━━━━━━━━━━━━━━━━\u001b[0m\u001b[37m\u001b[0m \u001b[1m19s\u001b[0m 30ms/step - accuracy: 0.8063 - auc: 0.8783 - loss: 0.4440 - val_accuracy: 0.6068 - val_auc: 0.6546 - val_loss: 0.8583\n",
      "Epoch 4/10\n",
      "\u001b[1m450/451\u001b[0m \u001b[32m━━━━━━━━━━━━━━━━━━━\u001b[0m\u001b[37m━\u001b[0m \u001b[1m0s\u001b[0m 25ms/step - accuracy: 0.8576 - auc: 0.9294 - loss: 0.3426\n",
      "Epoch 4: val_accuracy did not improve from 0.60677\n",
      "\u001b[1m451/451\u001b[0m \u001b[32m━━━━━━━━━━━━━━━━━━━━\u001b[0m\u001b[37m\u001b[0m \u001b[1m20s\u001b[0m 28ms/step - accuracy: 0.8575 - auc: 0.9293 - loss: 0.3426 - val_accuracy: 0.6018 - val_auc: 0.6611 - val_loss: 0.7652\n",
      "Epoch 5/10\n",
      "\u001b[1m449/451\u001b[0m \u001b[32m━━━━━━━━━━━━━━━━━━━\u001b[0m\u001b[37m━\u001b[0m \u001b[1m0s\u001b[0m 33ms/step - accuracy: 0.8912 - auc: 0.9572 - loss: 0.2694\n",
      "Epoch 5: val_accuracy did not improve from 0.60677\n",
      "\u001b[1m451/451\u001b[0m \u001b[32m━━━━━━━━━━━━━━━━━━━━\u001b[0m\u001b[37m\u001b[0m \u001b[1m24s\u001b[0m 35ms/step - accuracy: 0.8911 - auc: 0.9571 - loss: 0.2695 - val_accuracy: 0.5957 - val_auc: 0.6477 - val_loss: 1.4729\n",
      "Epoch 6/10\n",
      "\u001b[1m451/451\u001b[0m \u001b[32m━━━━━━━━━━━━━━━━━━━━\u001b[0m\u001b[37m\u001b[0m \u001b[1m0s\u001b[0m 25ms/step - accuracy: 0.9231 - auc: 0.9762 - loss: 0.1983\n",
      "Epoch 6: val_accuracy did not improve from 0.60677\n",
      "\u001b[1m451/451\u001b[0m \u001b[32m━━━━━━━━━━━━━━━━━━━━\u001b[0m\u001b[37m\u001b[0m \u001b[1m12s\u001b[0m 28ms/step - accuracy: 0.9231 - auc: 0.9762 - loss: 0.1983 - val_accuracy: 0.6062 - val_auc: 0.6534 - val_loss: 1.4606\n",
      " Best model bi_lstm-64_dropout-0.5_lr-0.001_batch-16_epochs-10.keras loaded!\n",
      "\u001b[1m57/57\u001b[0m \u001b[32m━━━━━━━━━━━━━━━━━━━━\u001b[0m\u001b[37m\u001b[0m \u001b[1m2s\u001b[0m 11ms/step - accuracy: 0.5804 - auc: 0.6207 - loss: 0.9047\n",
      "\n",
      " bi_lstm-64_dropout-0.5_lr-0.001_batch-16_epochs-10.keras - Test Accuracy: 0.6068 - Test AUC: 0.6546\n",
      "\u001b[1m57/57\u001b[0m \u001b[32m━━━━━━━━━━━━━━━━━━━━\u001b[0m\u001b[37m\u001b[0m \u001b[1m1s\u001b[0m 13ms/step\n",
      "First 10 Predictions: [0.02754872 0.8378839  0.21636528 0.40199506 0.736593   0.8561303\n",
      " 0.9584263  0.73562753 0.01340299 0.04428147]\n",
      "Unique Predictions: [0 1]\n",
      "\n",
      " Classification Report for bi_lstm-64_dropout-0.5_lr-0.001_batch-16_epochs-10.keras:\n",
      "              precision    recall  f1-score   support\n",
      "\n",
      "           0     0.5875    0.7184    0.6464       902\n",
      "           1     0.6371    0.4950    0.5572       901\n",
      "\n",
      "    accuracy                         0.6068      1803\n",
      "   macro avg     0.6123    0.6067    0.6018      1803\n",
      "weighted avg     0.6123    0.6068    0.6018      1803\n",
      "\n",
      "Precision: 0.6371\n",
      "Recall: 0.4950\n",
      "F1 Score: 0.5572\n",
      "\n",
      " **Final Predicted Class Distribution:** {0: np.int64(1103), 1: np.int64(700)}\n",
      "\n",
      " BiLSTM model trained and saved successfully!\n"
     ]
    }
   ],
   "source": [
    "#importovanie potrebných knižníc\n",
    "import tensorflow as tf\n",
    "from tensorflow.keras import layers, models, optimizers, losses, metrics\n",
    "import numpy as np\n",
    "import pandas as pd\n",
    "import pickle\n",
    "import os\n",
    "from sklearn.metrics import classification_report, precision_score, recall_score, f1_score\n",
    "from sklearn.utils.class_weight import compute_class_weight\n",
    "from tensorflow.keras.preprocessing.text import Tokenizer\n",
    "from tensorflow.keras.preprocessing.sequence import pad_sequences\n",
    "\n",
    "#načítanie datasetu\n",
    "merged_csv_path = \"/content/drive/MyDrive/data/new_merged.csv\"\n",
    "df = pd.read_csv(merged_csv_path)\n",
    "\n",
    "#vyváženie datasetu: výber rovnakej veľkosti z oboch tried\n",
    "class_0 = df[df['label'] == 0]\n",
    "class_1 = df[df['label'] == 1]\n",
    "\n",
    "#spojenie oboch tried do jedného balanced datasetu\n",
    "min_class_size = min(len(class_0), len(class_1))\n",
    "df_train = pd.concat([\n",
    "    class_0.sample(n=min_class_size, random_state=42),\n",
    "    class_1.sample(n=min_class_size, random_state=42)\n",
    "])\n",
    "\n",
    "df_test = df.drop(df_train.index)\n",
    "from tensorflow.keras import layers, models, optimizers, losses, metrics\n",
    "import numpy as np\n",
    "import pandas as pd\n",
    "import pickle\n",
    "import os\n",
    "from sklearn.model_selection import train_test_split\n",
    "from sklearn.utils.class_weight import compute_class_weight\n",
    "from tensorflow.keras.preprocessing.text import Tokenizer\n",
    "from tensorflow.keras.preprocessing.sequence import pad_sequences\n",
    "\n",
    "#načítanie datasetu\n",
    "merged_csv_path = \"/content/drive/MyDrive/data/new_merged.csv\"\n",
    "df = pd.read_csv(merged_csv_path)\n",
    "\n",
    "# ✅ Ensure balanced dataset\n",
    "class_0 = df[df['label'] == 0]\n",
    "class_1 = df[df['label'] == 1]\n",
    "\n",
    "# ✅ Balance the training dataset\n",
    "min_class_size = min(len(class_0), len(class_1))\n",
    "df_balanced = pd.concat([\n",
    "    class_0.sample(n=min_class_size, random_state=42),\n",
    "    class_1.sample(n=min_class_size, random_state=42)\n",
    "])\n",
    "\n",
    "#rozdelenie dát na trénovaciu a testovaciu množinu (80/20) so stratifikáciou\n",
    "df_train, df_test = train_test_split(df_balanced, test_size=0.2, stratify=df_balanced[\"label\"], random_state=42)\n",
    "\n",
    "#zobrazenie distribúcie tried v trénovacej a testovacej množine\n",
    "print(f\"\\n New Training Set Distribution:\\n{df_train['label'].value_counts()}\")\n",
    "print(f\" New Test Set Distribution:\\n{df_test['label'].value_counts()}\")\n",
    "\n",
    "#extrakcia textov a ich štítkov\n",
    "train_texts = df_train[\"clean text\"].tolist()\n",
    "train_labels = np.array(df_train[\"label\"].tolist(), dtype=np.int32)\n",
    "\n",
    "test_texts = df_test[\"clean text\"].tolist()\n",
    "test_labels = np.array(df_test[\"label\"].tolist(), dtype=np.int32)\n",
    "\n",
    "#nastavenie parametrov pre tokenizáciu\n",
    "max_words = 10000   #maximálny počet slov\n",
    "max_length = 100    #maximálna dĺžka sekvencie\n",
    "embedding_dim = 100 #rozmer embedding vrstvy\n",
    "\n",
    "#tokenizacia\n",
    "tokenizer = Tokenizer(num_words=max_words, oov_token=\"<OOV>\")\n",
    "tokenizer.fit_on_texts(train_texts)\n",
    "\n",
    "#uloženie tokenizera na ďalšie použitie\n",
    "with open(\"tokenizer.pickle\", \"wb\") as handle:\n",
    "    pickle.dump(tokenizer, handle, protocol=pickle.HIGHEST_PROTOCOL)\n",
    "\n",
    "#prevod textov na číselné sekvencie a padding\n",
    "train_sequences = tokenizer.texts_to_sequences(train_texts)\n",
    "train_padded = pad_sequences(train_sequences, maxlen=max_length, padding='post')\n",
    "\n",
    "test_sequences = tokenizer.texts_to_sequences(test_texts)\n",
    "test_padded = pad_sequences(test_sequences, maxlen=max_length, padding='post')\n",
    "\n",
    "#výpočet váh tried počas trénovania\n",
    "class_weights = compute_class_weight(class_weight=\"balanced\", classes=np.unique(train_labels), y=train_labels)\n",
    "class_weight_dict = dict(enumerate(class_weights))\n",
    "print(f\" Class Weights: {class_weight_dict}\")\n",
    "\n",
    "#nastavenie hyperparametrov\n",
    "lstm_units = 64\n",
    "dropout_rate = 0.5\n",
    "learning_rate = 0.001\n",
    "batch_size = 16\n",
    "epochs = 10\n",
    "\n",
    "#definovanie BiLSTM modelu\n",
    "def build_bi_lstm_model():\n",
    "    model = models.Sequential([\n",
    "        layers.Embedding(input_dim=max_words, output_dim=embedding_dim),\n",
    "        layers.Bidirectional(layers.LSTM(128, return_sequences=True)),\n",
    "        layers.Bidirectional(layers.LSTM(lstm_units)),\n",
    "        layers.BatchNormalization(),\n",
    "        layers.Dense(64, activation='relu'),\n",
    "        layers.Dropout(dropout_rate),\n",
    "        layers.Dense(1, activation='sigmoid')\n",
    "    ])\n",
    "\n",
    "    optimizer = optimizers.Adam(learning_rate=learning_rate)\n",
    "    model.compile(optimizer=optimizer,\n",
    "                  loss=losses.BinaryCrossentropy(),\n",
    "                  metrics=['accuracy', metrics.AUC()])\n",
    "    return model\n",
    "\n",
    "#vytvorenie modelu\n",
    "model = build_bi_lstm_model()\n",
    "\n",
    "#definovanie callback na uloženie najlepšieho modelu podľa validačnej presnosti\n",
    "model_filename = f\"bi_lstm-{lstm_units}_dropout-{dropout_rate}_lr-{learning_rate}_batch-{batch_size}_epochs-{epochs}.keras\"\n",
    "model_filepath = os.path.join(\"saved_models\", model_filename)\n",
    "\n",
    "checkpoint_callback = tf.keras.callbacks.ModelCheckpoint(\n",
    "    filepath=model_filepath, save_best_only=True, monitor=\"val_accuracy\", mode=\"max\", verbose=1\n",
    ")\n",
    "\n",
    "early_stopping = tf.keras.callbacks.EarlyStopping(\n",
    "    monitor=\"val_accuracy\", patience=3, restore_best_weights=True\n",
    ")\n",
    "\n",
    "print(f\"\\n Training model: {model_filename}\")\n",
    "\n",
    "#trénovanie modelu\n",
    "history = model.fit(\n",
    "    train_padded, train_labels.astype(np.float32),\n",
    "    validation_data=(test_padded, test_labels.astype(np.float32)),\n",
    "    epochs=epochs,\n",
    "    batch_size=batch_size,\n",
    "    class_weight=class_weight_dict,\n",
    "    callbacks=[checkpoint_callback, early_stopping],\n",
    "    verbose=1\n",
    ")\n",
    "\n",
    "#načítanie najlepšieho uloženého modelu\n",
    "model = tf.keras.models.load_model(model_filepath)\n",
    "print(f\" Best model {model_filename} loaded!\")\n",
    "\n",
    "#vyhodnotenie modelu na testovacích dátach\n",
    "test_results = model.evaluate(test_padded, test_labels.astype(np.float32), verbose=1)\n",
    "test_loss, test_accuracy, test_auc = test_results\n",
    "\n",
    "print(f\"\\n {model_filename} - Test Accuracy: {test_accuracy:.4f} - Test AUC: {test_auc:.4f}\")\n",
    "\n",
    "#predikcie na testovacích dátach\n",
    "predictions = model.predict(test_padded)\n",
    "predictions_binary = (predictions > 0.5).astype(int)\n",
    "\n",
    "#výpis prvých predikcií\n",
    "print(\"First 10 Predictions:\", predictions[:10].flatten())\n",
    "print(\"Unique Predictions:\", np.unique(predictions_binary))\n",
    "\n",
    "#klasifikačný report (presnosť, recall, F1)\n",
    "print(f\"\\n Classification Report for {model_filename}:\")\n",
    "print(classification_report(test_labels, predictions_binary, digits=4))\n",
    "\n",
    "#výpočet metrík\n",
    "precision = precision_score(test_labels, predictions_binary)\n",
    "recall = recall_score(test_labels, predictions_binary)\n",
    "f1 = f1_score(test_labels, predictions_binary)\n",
    "\n",
    "print(f\"Precision: {precision:.4f}\")\n",
    "print(f\"Recall: {recall:.4f}\")\n",
    "print(f\"F1 Score: {f1:.4f}\")\n",
    "\n",
    "#výpis distribúcie predikovaných tried\n",
    "predicted_class_counts = np.bincount(predictions_binary.flatten())\n",
    "print(f\"\\n **Final Predicted Class Distribution:** {dict(enumerate(predicted_class_counts))}\")\n",
    "\n",
    "#uloženie výsledkov\n",
    "results_filename = f\"saved_models/{model_filename}.txt\"\n",
    "with open(results_filename, \"w\") as f:\n",
    "    f.write(f\"Model: {model_filename}\\n\")\n",
    "    f.write(f\"Test Accuracy: {test_accuracy:.4f}\\n\")\n",
    "    f.write(f\"Test AUC: {test_auc:.4f}\\n\")\n",
    "    f.write(f\"Precision: {precision:.4f}\\n\")\n",
    "    f.write(f\"Recall: {recall:.4f}\\n\")\n",
    "    f.write(f\"F1 Score: {f1:.4f}\\n\")\n",
    "    f.write(f\"\\n Final Predicted Class Distribution: {dict(enumerate(predicted_class_counts))}\\n\")\n",
    "    f.write(\"\\nClassification Report:\\n\")\n",
    "    f.write(classification_report(test_labels, predictions_binary, digits=4))\n",
    "\n",
    "print(\"\\n BiLSTM model trained and saved successfully!\")\n"
   ]
  },
  {
   "cell_type": "code",
   "execution_count": null,
   "metadata": {
    "colab": {
     "base_uri": "https://localhost:8080/"
    },
    "executionInfo": {
     "elapsed": 52,
     "status": "ok",
     "timestamp": 1744804741660,
     "user": {
      "displayName": "lauri k",
      "userId": "16133368723613273782"
     },
     "user_tz": -120
    },
    "id": "_4fuIZzod9bD",
    "outputId": "f555836e-e6c0-4363-9a6e-f6a26c727db4"
   },
   "outputs": [
    {
     "name": "stdout",
     "output_type": "stream",
     "text": [
      "Accuracy: 0.6068\n"
     ]
    }
   ],
   "source": [
    "from sklearn.metrics import accuracy_score\n",
    "\n",
    "#vypis accuracy\n",
    "accuracy = accuracy_score(test_labels, predictions_binary)\n",
    "print(f\"Accuracy: {accuracy:.4f}\")\n"
   ]
  },
  {
   "cell_type": "code",
   "execution_count": null,
   "metadata": {
    "colab": {
     "base_uri": "https://localhost:8080/",
     "height": 523
    },
    "executionInfo": {
     "elapsed": 1655,
     "status": "ok",
     "timestamp": 1742992637156,
     "user": {
      "displayName": "lauri k",
      "userId": "16133368723613273782"
     },
     "user_tz": -60
    },
    "id": "f8z27E1AaYzC",
    "outputId": "a2fe257d-ce79-40f2-b650-db617c75f250"
   },
   "outputs": [
    {
     "name": "stderr",
     "output_type": "stream",
     "text": [
      "/usr/local/lib/python3.11/dist-packages/IPython/core/pylabtools.py:151: UserWarning: Glyph 129513 (\\N{JIGSAW PUZZLE PIECE}) missing from font(s) DejaVu Sans.\n",
      "  fig.canvas.print_figure(bytes_io, **kw)\n"
     ]
    },
    {
     "data": {
      "image/png": "[encoded data removed]",
      "text/plain": [
       "<Figure size 600x500 with 2 Axes>"
      ]
     },
     "metadata": {},
     "output_type": "display_data"
    }
   ],
   "source": [
    "#confusion matrix pre model BiLSTM\n",
    "import matplotlib.pyplot as plt\n",
    "import seaborn as sns\n",
    "from sklearn.metrics import confusion_matrix\n",
    "\n",
    "#výpočet matice chýb\n",
    "cm = confusion_matrix(test_labels, predictions_binary)\n",
    "\n",
    "#vykreslenie matice\n",
    "plt.figure(figsize=(6, 5))\n",
    "sns.heatmap(cm, annot=True, fmt='d', cmap='Blues', xticklabels=[0, 1], yticklabels=[0, 1])\n",
    "plt.title('Confusion Matrix')\n",
    "plt.xlabel('Predicted Label')\n",
    "plt.ylabel('True Label')\n",
    "plt.show()\n"
   ]
  }
 ],
 "metadata": {
  "accelerator": "GPU",
  "colab": {
   "gpuType": "T4",
   "provenance": []
  },
  "kernelspec": {
   "display_name": "Python 3",
   "name": "python3"
  },
  "language_info": {
   "name": "python"
  }
 },
 "nbformat": 4,
 "nbformat_minor": 0
}
